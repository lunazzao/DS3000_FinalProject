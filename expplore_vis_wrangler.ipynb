{
 "cells": [
  {
   "cell_type": "code",
   "execution_count": 3,
   "metadata": {},
   "outputs": [],
   "source": [
    "import pandas as pd\n",
    "import numpy as np\n",
    "from datetime import datetime as dt"
   ]
  },
  {
   "cell_type": "code",
   "execution_count": 11,
   "metadata": {},
   "outputs": [
    {
     "data": {
      "text/html": [
       "<div>\n",
       "<style scoped>\n",
       "    .dataframe tbody tr th:only-of-type {\n",
       "        vertical-align: middle;\n",
       "    }\n",
       "\n",
       "    .dataframe tbody tr th {\n",
       "        vertical-align: top;\n",
       "    }\n",
       "\n",
       "    .dataframe thead th {\n",
       "        text-align: right;\n",
       "    }\n",
       "</style>\n",
       "<table border=\"1\" class=\"dataframe\">\n",
       "  <thead>\n",
       "    <tr style=\"text-align: right;\">\n",
       "      <th></th>\n",
       "      <th>Unnamed: 0</th>\n",
       "      <th>MAL_ID</th>\n",
       "      <th>Episodes</th>\n",
       "      <th>Duration</th>\n",
       "      <th>Members</th>\n",
       "      <th>Genres_Action</th>\n",
       "      <th>Genres_Adventure</th>\n",
       "      <th>Genres_Cars</th>\n",
       "      <th>Genres_Comedy</th>\n",
       "      <th>Genres_Dementia</th>\n",
       "      <th>...</th>\n",
       "      <th>Source_Visual novel</th>\n",
       "      <th>Source_Web manga</th>\n",
       "      <th>Rating_G</th>\n",
       "      <th>Rating_PG</th>\n",
       "      <th>Rating_PG13</th>\n",
       "      <th>Rating_R</th>\n",
       "      <th>Rating_R+</th>\n",
       "      <th>Rating_Rx</th>\n",
       "      <th>Aired_Start</th>\n",
       "      <th>Aired_End</th>\n",
       "    </tr>\n",
       "  </thead>\n",
       "  <tbody>\n",
       "    <tr>\n",
       "      <th>3024</th>\n",
       "      <td>7449</td>\n",
       "      <td>16498</td>\n",
       "      <td>25.0</td>\n",
       "      <td>24.0</td>\n",
       "      <td>2531397</td>\n",
       "      <td>1</td>\n",
       "      <td>0</td>\n",
       "      <td>0</td>\n",
       "      <td>0</td>\n",
       "      <td>0</td>\n",
       "      <td>...</td>\n",
       "      <td>0</td>\n",
       "      <td>0</td>\n",
       "      <td>0</td>\n",
       "      <td>0</td>\n",
       "      <td>0</td>\n",
       "      <td>1</td>\n",
       "      <td>0</td>\n",
       "      <td>0</td>\n",
       "      <td>2013-04-07</td>\n",
       "      <td>2013-09-29</td>\n",
       "    </tr>\n",
       "    <tr>\n",
       "      <th>3181</th>\n",
       "      <td>8646</td>\n",
       "      <td>22319</td>\n",
       "      <td>12.0</td>\n",
       "      <td>24.0</td>\n",
       "      <td>1895488</td>\n",
       "      <td>1</td>\n",
       "      <td>0</td>\n",
       "      <td>0</td>\n",
       "      <td>0</td>\n",
       "      <td>0</td>\n",
       "      <td>...</td>\n",
       "      <td>0</td>\n",
       "      <td>0</td>\n",
       "      <td>0</td>\n",
       "      <td>0</td>\n",
       "      <td>0</td>\n",
       "      <td>1</td>\n",
       "      <td>0</td>\n",
       "      <td>0</td>\n",
       "      <td>2014-07-04</td>\n",
       "      <td>2014-09-19</td>\n",
       "    </tr>\n",
       "    <tr>\n",
       "      <th>1920</th>\n",
       "      <td>6474</td>\n",
       "      <td>11061</td>\n",
       "      <td>148.0</td>\n",
       "      <td>23.0</td>\n",
       "      <td>1673924</td>\n",
       "      <td>1</td>\n",
       "      <td>1</td>\n",
       "      <td>0</td>\n",
       "      <td>0</td>\n",
       "      <td>0</td>\n",
       "      <td>...</td>\n",
       "      <td>0</td>\n",
       "      <td>0</td>\n",
       "      <td>0</td>\n",
       "      <td>0</td>\n",
       "      <td>1</td>\n",
       "      <td>0</td>\n",
       "      <td>0</td>\n",
       "      <td>0</td>\n",
       "      <td>2011-10-02</td>\n",
       "      <td>2014-09-24</td>\n",
       "    </tr>\n",
       "    <tr>\n",
       "      <th>1529</th>\n",
       "      <td>8883</td>\n",
       "      <td>23273</td>\n",
       "      <td>22.0</td>\n",
       "      <td>22.0</td>\n",
       "      <td>1442330</td>\n",
       "      <td>0</td>\n",
       "      <td>0</td>\n",
       "      <td>0</td>\n",
       "      <td>0</td>\n",
       "      <td>0</td>\n",
       "      <td>...</td>\n",
       "      <td>0</td>\n",
       "      <td>0</td>\n",
       "      <td>0</td>\n",
       "      <td>0</td>\n",
       "      <td>1</td>\n",
       "      <td>0</td>\n",
       "      <td>0</td>\n",
       "      <td>0</td>\n",
       "      <td>2014-10-10</td>\n",
       "      <td>2015-03-20</td>\n",
       "    </tr>\n",
       "    <tr>\n",
       "      <th>867</th>\n",
       "      <td>8551</td>\n",
       "      <td>21881</td>\n",
       "      <td>24.0</td>\n",
       "      <td>23.0</td>\n",
       "      <td>1437210</td>\n",
       "      <td>1</td>\n",
       "      <td>1</td>\n",
       "      <td>0</td>\n",
       "      <td>0</td>\n",
       "      <td>0</td>\n",
       "      <td>...</td>\n",
       "      <td>0</td>\n",
       "      <td>0</td>\n",
       "      <td>0</td>\n",
       "      <td>0</td>\n",
       "      <td>1</td>\n",
       "      <td>0</td>\n",
       "      <td>0</td>\n",
       "      <td>0</td>\n",
       "      <td>2014-07-05</td>\n",
       "      <td>2014-12-20</td>\n",
       "    </tr>\n",
       "  </tbody>\n",
       "</table>\n",
       "<p>5 rows × 2183 columns</p>\n",
       "</div>"
      ],
      "text/plain": [
       "      Unnamed: 0  MAL_ID  Episodes  Duration  Members  Genres_Action  \\\n",
       "3024        7449   16498      25.0      24.0  2531397              1   \n",
       "3181        8646   22319      12.0      24.0  1895488              1   \n",
       "1920        6474   11061     148.0      23.0  1673924              1   \n",
       "1529        8883   23273      22.0      22.0  1442330              0   \n",
       "867         8551   21881      24.0      23.0  1437210              1   \n",
       "\n",
       "      Genres_Adventure  Genres_Cars  Genres_Comedy  Genres_Dementia  ...  \\\n",
       "3024                 0            0              0                0  ...   \n",
       "3181                 0            0              0                0  ...   \n",
       "1920                 1            0              0                0  ...   \n",
       "1529                 0            0              0                0  ...   \n",
       "867                  1            0              0                0  ...   \n",
       "\n",
       "      Source_Visual novel  Source_Web manga  Rating_G  Rating_PG  Rating_PG13  \\\n",
       "3024                    0                 0         0          0            0   \n",
       "3181                    0                 0         0          0            0   \n",
       "1920                    0                 0         0          0            1   \n",
       "1529                    0                 0         0          0            1   \n",
       "867                     0                 0         0          0            1   \n",
       "\n",
       "      Rating_R  Rating_R+  Rating_Rx  Aired_Start   Aired_End  \n",
       "3024         1          0          0   2013-04-07  2013-09-29  \n",
       "3181         1          0          0   2014-07-04  2014-09-19  \n",
       "1920         0          0          0   2011-10-02  2014-09-24  \n",
       "1529         0          0          0   2014-10-10  2015-03-20  \n",
       "867          0          0          0   2014-07-05  2014-12-20  \n",
       "\n",
       "[5 rows x 2183 columns]"
      ]
     },
     "execution_count": 11,
     "metadata": {},
     "output_type": "execute_result"
    }
   ],
   "source": [
    "df = pd.read_csv(\"res/smol_features.csv\")\n",
    "df = df.sort_values(by=\"Members\", ascending =False, kind='quicksort', na_position='last', ignore_index=False, key=None)\n",
    "df.head()"
   ]
  },
  {
   "cell_type": "code",
   "execution_count": 39,
   "metadata": {},
   "outputs": [
    {
     "data": {
      "text/html": [
       "<div>\n",
       "<style scoped>\n",
       "    .dataframe tbody tr th:only-of-type {\n",
       "        vertical-align: middle;\n",
       "    }\n",
       "\n",
       "    .dataframe tbody tr th {\n",
       "        vertical-align: top;\n",
       "    }\n",
       "\n",
       "    .dataframe thead th {\n",
       "        text-align: right;\n",
       "    }\n",
       "</style>\n",
       "<table border=\"1\" class=\"dataframe\">\n",
       "  <thead>\n",
       "    <tr style=\"text-align: right;\">\n",
       "      <th></th>\n",
       "      <th>Genre</th>\n",
       "      <th>Sum_Genre</th>\n",
       "    </tr>\n",
       "  </thead>\n",
       "  <tbody>\n",
       "    <tr>\n",
       "      <th>0</th>\n",
       "      <td>Genres_Action</td>\n",
       "      <td>47441235</td>\n",
       "    </tr>\n",
       "    <tr>\n",
       "      <th>1</th>\n",
       "      <td>Genres_Adventure</td>\n",
       "      <td>22741572</td>\n",
       "    </tr>\n",
       "    <tr>\n",
       "      <th>2</th>\n",
       "      <td>Genres_Cars</td>\n",
       "      <td>173483</td>\n",
       "    </tr>\n",
       "    <tr>\n",
       "      <th>3</th>\n",
       "      <td>Genres_Comedy</td>\n",
       "      <td>49470549</td>\n",
       "    </tr>\n",
       "    <tr>\n",
       "      <th>4</th>\n",
       "      <td>Genres_Dementia</td>\n",
       "      <td>2040856</td>\n",
       "    </tr>\n",
       "    <tr>\n",
       "      <th>5</th>\n",
       "      <td>Genres_Demons</td>\n",
       "      <td>7759396</td>\n",
       "    </tr>\n",
       "    <tr>\n",
       "      <th>6</th>\n",
       "      <td>Genres_Drama</td>\n",
       "      <td>35136777</td>\n",
       "    </tr>\n",
       "    <tr>\n",
       "      <th>7</th>\n",
       "      <td>Genres_Ecchi</td>\n",
       "      <td>10800346</td>\n",
       "    </tr>\n",
       "    <tr>\n",
       "      <th>8</th>\n",
       "      <td>Genres_Fantasy</td>\n",
       "      <td>30043771</td>\n",
       "    </tr>\n",
       "    <tr>\n",
       "      <th>9</th>\n",
       "      <td>Genres_Game</td>\n",
       "      <td>7164129</td>\n",
       "    </tr>\n",
       "    <tr>\n",
       "      <th>10</th>\n",
       "      <td>Genres_Harem</td>\n",
       "      <td>9418030</td>\n",
       "    </tr>\n",
       "    <tr>\n",
       "      <th>11</th>\n",
       "      <td>Genres_Hentai</td>\n",
       "      <td>1442891</td>\n",
       "    </tr>\n",
       "    <tr>\n",
       "      <th>12</th>\n",
       "      <td>Genres_Historical</td>\n",
       "      <td>5886685</td>\n",
       "    </tr>\n",
       "    <tr>\n",
       "      <th>13</th>\n",
       "      <td>Genres_Horror</td>\n",
       "      <td>6068606</td>\n",
       "    </tr>\n",
       "    <tr>\n",
       "      <th>14</th>\n",
       "      <td>Genres_Josei</td>\n",
       "      <td>811654</td>\n",
       "    </tr>\n",
       "    <tr>\n",
       "      <th>15</th>\n",
       "      <td>Genres_Kids</td>\n",
       "      <td>1376788</td>\n",
       "    </tr>\n",
       "    <tr>\n",
       "      <th>16</th>\n",
       "      <td>Genres_Magic</td>\n",
       "      <td>11963869</td>\n",
       "    </tr>\n",
       "    <tr>\n",
       "      <th>17</th>\n",
       "      <td>Genres_Martial Arts</td>\n",
       "      <td>3431065</td>\n",
       "    </tr>\n",
       "    <tr>\n",
       "      <th>18</th>\n",
       "      <td>Genres_Mecha</td>\n",
       "      <td>5886747</td>\n",
       "    </tr>\n",
       "    <tr>\n",
       "      <th>19</th>\n",
       "      <td>Genres_Military</td>\n",
       "      <td>6181903</td>\n",
       "    </tr>\n",
       "    <tr>\n",
       "      <th>20</th>\n",
       "      <td>Genres_Music</td>\n",
       "      <td>3733667</td>\n",
       "    </tr>\n",
       "    <tr>\n",
       "      <th>21</th>\n",
       "      <td>Genres_Mystery</td>\n",
       "      <td>17894914</td>\n",
       "    </tr>\n",
       "    <tr>\n",
       "      <th>22</th>\n",
       "      <td>Genres_Parody</td>\n",
       "      <td>5478475</td>\n",
       "    </tr>\n",
       "    <tr>\n",
       "      <th>23</th>\n",
       "      <td>Genres_Police</td>\n",
       "      <td>905849</td>\n",
       "    </tr>\n",
       "    <tr>\n",
       "      <th>24</th>\n",
       "      <td>Genres_Psychological</td>\n",
       "      <td>10315304</td>\n",
       "    </tr>\n",
       "    <tr>\n",
       "      <th>25</th>\n",
       "      <td>Genres_Romance</td>\n",
       "      <td>35561037</td>\n",
       "    </tr>\n",
       "    <tr>\n",
       "      <th>26</th>\n",
       "      <td>Genres_Samurai</td>\n",
       "      <td>704582</td>\n",
       "    </tr>\n",
       "    <tr>\n",
       "      <th>27</th>\n",
       "      <td>Genres_School</td>\n",
       "      <td>33691681</td>\n",
       "    </tr>\n",
       "    <tr>\n",
       "      <th>28</th>\n",
       "      <td>Genres_Sci-Fi</td>\n",
       "      <td>21994058</td>\n",
       "    </tr>\n",
       "    <tr>\n",
       "      <th>29</th>\n",
       "      <td>Genres_Seinen</td>\n",
       "      <td>12202076</td>\n",
       "    </tr>\n",
       "    <tr>\n",
       "      <th>30</th>\n",
       "      <td>Genres_Shoujo</td>\n",
       "      <td>6245298</td>\n",
       "    </tr>\n",
       "    <tr>\n",
       "      <th>31</th>\n",
       "      <td>Genres_Shoujo Ai</td>\n",
       "      <td>1175082</td>\n",
       "    </tr>\n",
       "    <tr>\n",
       "      <th>32</th>\n",
       "      <td>Genres_Shounen</td>\n",
       "      <td>32494913</td>\n",
       "    </tr>\n",
       "    <tr>\n",
       "      <th>33</th>\n",
       "      <td>Genres_Shounen Ai</td>\n",
       "      <td>647116</td>\n",
       "    </tr>\n",
       "    <tr>\n",
       "      <th>34</th>\n",
       "      <td>Genres_Slice of Life</td>\n",
       "      <td>20236388</td>\n",
       "    </tr>\n",
       "    <tr>\n",
       "      <th>35</th>\n",
       "      <td>Genres_Space</td>\n",
       "      <td>2026708</td>\n",
       "    </tr>\n",
       "    <tr>\n",
       "      <th>36</th>\n",
       "      <td>Genres_Sports</td>\n",
       "      <td>5154844</td>\n",
       "    </tr>\n",
       "    <tr>\n",
       "      <th>37</th>\n",
       "      <td>Genres_Super Power</td>\n",
       "      <td>14762995</td>\n",
       "    </tr>\n",
       "    <tr>\n",
       "      <th>38</th>\n",
       "      <td>Genres_Supernatural</td>\n",
       "      <td>29543647</td>\n",
       "    </tr>\n",
       "    <tr>\n",
       "      <th>39</th>\n",
       "      <td>Genres_Thriller</td>\n",
       "      <td>3775652</td>\n",
       "    </tr>\n",
       "    <tr>\n",
       "      <th>40</th>\n",
       "      <td>Genres_Vampire</td>\n",
       "      <td>2011630</td>\n",
       "    </tr>\n",
       "    <tr>\n",
       "      <th>41</th>\n",
       "      <td>Genres_Yaoi</td>\n",
       "      <td>110123</td>\n",
       "    </tr>\n",
       "    <tr>\n",
       "      <th>42</th>\n",
       "      <td>Genres_Yuri</td>\n",
       "      <td>54157</td>\n",
       "    </tr>\n",
       "  </tbody>\n",
       "</table>\n",
       "</div>"
      ],
      "text/plain": [
       "                   Genre  Sum_Genre\n",
       "0          Genres_Action   47441235\n",
       "1       Genres_Adventure   22741572\n",
       "2            Genres_Cars     173483\n",
       "3          Genres_Comedy   49470549\n",
       "4        Genres_Dementia    2040856\n",
       "5          Genres_Demons    7759396\n",
       "6           Genres_Drama   35136777\n",
       "7           Genres_Ecchi   10800346\n",
       "8         Genres_Fantasy   30043771\n",
       "9            Genres_Game    7164129\n",
       "10          Genres_Harem    9418030\n",
       "11         Genres_Hentai    1442891\n",
       "12     Genres_Historical    5886685\n",
       "13         Genres_Horror    6068606\n",
       "14          Genres_Josei     811654\n",
       "15           Genres_Kids    1376788\n",
       "16          Genres_Magic   11963869\n",
       "17   Genres_Martial Arts    3431065\n",
       "18          Genres_Mecha    5886747\n",
       "19       Genres_Military    6181903\n",
       "20          Genres_Music    3733667\n",
       "21        Genres_Mystery   17894914\n",
       "22         Genres_Parody    5478475\n",
       "23         Genres_Police     905849\n",
       "24  Genres_Psychological   10315304\n",
       "25        Genres_Romance   35561037\n",
       "26        Genres_Samurai     704582\n",
       "27         Genres_School   33691681\n",
       "28         Genres_Sci-Fi   21994058\n",
       "29         Genres_Seinen   12202076\n",
       "30         Genres_Shoujo    6245298\n",
       "31      Genres_Shoujo Ai    1175082\n",
       "32        Genres_Shounen   32494913\n",
       "33     Genres_Shounen Ai     647116\n",
       "34  Genres_Slice of Life   20236388\n",
       "35          Genres_Space    2026708\n",
       "36         Genres_Sports    5154844\n",
       "37    Genres_Super Power   14762995\n",
       "38   Genres_Supernatural   29543647\n",
       "39       Genres_Thriller    3775652\n",
       "40        Genres_Vampire    2011630\n",
       "41           Genres_Yaoi     110123\n",
       "42           Genres_Yuri      54157"
      ]
     },
     "execution_count": 39,
     "metadata": {},
     "output_type": "execute_result"
    }
   ],
   "source": [
    "series1 = []\n",
    "series2 = []\n",
    "for column in df:\n",
    "    if \"Genres\" in str(column):\n",
    "        sum1 = df.loc[df[column] == 1, 'Members'].sum()\n",
    "        series1.append(column)\n",
    "        series2.append(sum1)\n",
    "df_genres_sum = pd.DataFrame({\"Genre\":series1, \"Sum_Genre\":series2})\n",
    "df_genres_sum"
   ]
  },
  {
   "cell_type": "code",
   "execution_count": 42,
   "metadata": {},
   "outputs": [
    {
     "data": {
      "application/vnd.plotly.v1+json": {
       "config": {
        "plotlyServerURL": "https://plot.ly"
       },
       "data": [
        {
         "domain": {
          "x": [
           0,
           1
          ],
          "y": [
           0,
           1
          ]
         },
         "hovertemplate": "Genre=%{label}<br>Sum_Genre=%{value}<extra></extra>",
         "labels": [
          "Genres_Action",
          "Genres_Adventure",
          "Genres_Cars",
          "Genres_Comedy",
          "Genres_Dementia",
          "Genres_Demons",
          "Genres_Drama",
          "Genres_Ecchi",
          "Genres_Fantasy",
          "Genres_Game",
          "Genres_Harem",
          "Genres_Hentai",
          "Genres_Historical",
          "Genres_Horror",
          "Genres_Josei",
          "Genres_Kids",
          "Genres_Magic",
          "Genres_Martial Arts",
          "Genres_Mecha",
          "Genres_Military",
          "Genres_Music",
          "Genres_Mystery",
          "Genres_Parody",
          "Genres_Police",
          "Genres_Psychological",
          "Genres_Romance",
          "Genres_Samurai",
          "Genres_School",
          "Genres_Sci-Fi",
          "Genres_Seinen",
          "Genres_Shoujo",
          "Genres_Shoujo Ai",
          "Genres_Shounen",
          "Genres_Shounen Ai",
          "Genres_Slice of Life",
          "Genres_Space",
          "Genres_Sports",
          "Genres_Super Power",
          "Genres_Supernatural",
          "Genres_Thriller",
          "Genres_Vampire",
          "Genres_Yaoi",
          "Genres_Yuri"
         ],
         "legendgroup": "",
         "name": "",
         "showlegend": true,
         "type": "pie",
         "values": [
          47441235,
          22741572,
          173483,
          49470549,
          2040856,
          7759396,
          35136777,
          10800346,
          30043771,
          7164129,
          9418030,
          1442891,
          5886685,
          6068606,
          811654,
          1376788,
          11963869,
          3431065,
          5886747,
          6181903,
          3733667,
          17894914,
          5478475,
          905849,
          10315304,
          35561037,
          704582,
          33691681,
          21994058,
          12202076,
          6245298,
          1175082,
          32494913,
          647116,
          20236388,
          2026708,
          5154844,
          14762995,
          29543647,
          3775652,
          2011630,
          110123,
          54157
         ]
        }
       ],
       "layout": {
        "legend": {
         "tracegroupgap": 0
        },
        "template": {
         "data": {
          "bar": [
           {
            "error_x": {
             "color": "#2a3f5f"
            },
            "error_y": {
             "color": "#2a3f5f"
            },
            "marker": {
             "line": {
              "color": "#E5ECF6",
              "width": 0.5
             },
             "pattern": {
              "fillmode": "overlay",
              "size": 10,
              "solidity": 0.2
             }
            },
            "type": "bar"
           }
          ],
          "barpolar": [
           {
            "marker": {
             "line": {
              "color": "#E5ECF6",
              "width": 0.5
             },
             "pattern": {
              "fillmode": "overlay",
              "size": 10,
              "solidity": 0.2
             }
            },
            "type": "barpolar"
           }
          ],
          "carpet": [
           {
            "aaxis": {
             "endlinecolor": "#2a3f5f",
             "gridcolor": "white",
             "linecolor": "white",
             "minorgridcolor": "white",
             "startlinecolor": "#2a3f5f"
            },
            "baxis": {
             "endlinecolor": "#2a3f5f",
             "gridcolor": "white",
             "linecolor": "white",
             "minorgridcolor": "white",
             "startlinecolor": "#2a3f5f"
            },
            "type": "carpet"
           }
          ],
          "choropleth": [
           {
            "colorbar": {
             "outlinewidth": 0,
             "ticks": ""
            },
            "type": "choropleth"
           }
          ],
          "contour": [
           {
            "colorbar": {
             "outlinewidth": 0,
             "ticks": ""
            },
            "colorscale": [
             [
              0,
              "#0d0887"
             ],
             [
              0.1111111111111111,
              "#46039f"
             ],
             [
              0.2222222222222222,
              "#7201a8"
             ],
             [
              0.3333333333333333,
              "#9c179e"
             ],
             [
              0.4444444444444444,
              "#bd3786"
             ],
             [
              0.5555555555555556,
              "#d8576b"
             ],
             [
              0.6666666666666666,
              "#ed7953"
             ],
             [
              0.7777777777777778,
              "#fb9f3a"
             ],
             [
              0.8888888888888888,
              "#fdca26"
             ],
             [
              1,
              "#f0f921"
             ]
            ],
            "type": "contour"
           }
          ],
          "contourcarpet": [
           {
            "colorbar": {
             "outlinewidth": 0,
             "ticks": ""
            },
            "type": "contourcarpet"
           }
          ],
          "heatmap": [
           {
            "colorbar": {
             "outlinewidth": 0,
             "ticks": ""
            },
            "colorscale": [
             [
              0,
              "#0d0887"
             ],
             [
              0.1111111111111111,
              "#46039f"
             ],
             [
              0.2222222222222222,
              "#7201a8"
             ],
             [
              0.3333333333333333,
              "#9c179e"
             ],
             [
              0.4444444444444444,
              "#bd3786"
             ],
             [
              0.5555555555555556,
              "#d8576b"
             ],
             [
              0.6666666666666666,
              "#ed7953"
             ],
             [
              0.7777777777777778,
              "#fb9f3a"
             ],
             [
              0.8888888888888888,
              "#fdca26"
             ],
             [
              1,
              "#f0f921"
             ]
            ],
            "type": "heatmap"
           }
          ],
          "heatmapgl": [
           {
            "colorbar": {
             "outlinewidth": 0,
             "ticks": ""
            },
            "colorscale": [
             [
              0,
              "#0d0887"
             ],
             [
              0.1111111111111111,
              "#46039f"
             ],
             [
              0.2222222222222222,
              "#7201a8"
             ],
             [
              0.3333333333333333,
              "#9c179e"
             ],
             [
              0.4444444444444444,
              "#bd3786"
             ],
             [
              0.5555555555555556,
              "#d8576b"
             ],
             [
              0.6666666666666666,
              "#ed7953"
             ],
             [
              0.7777777777777778,
              "#fb9f3a"
             ],
             [
              0.8888888888888888,
              "#fdca26"
             ],
             [
              1,
              "#f0f921"
             ]
            ],
            "type": "heatmapgl"
           }
          ],
          "histogram": [
           {
            "marker": {
             "pattern": {
              "fillmode": "overlay",
              "size": 10,
              "solidity": 0.2
             }
            },
            "type": "histogram"
           }
          ],
          "histogram2d": [
           {
            "colorbar": {
             "outlinewidth": 0,
             "ticks": ""
            },
            "colorscale": [
             [
              0,
              "#0d0887"
             ],
             [
              0.1111111111111111,
              "#46039f"
             ],
             [
              0.2222222222222222,
              "#7201a8"
             ],
             [
              0.3333333333333333,
              "#9c179e"
             ],
             [
              0.4444444444444444,
              "#bd3786"
             ],
             [
              0.5555555555555556,
              "#d8576b"
             ],
             [
              0.6666666666666666,
              "#ed7953"
             ],
             [
              0.7777777777777778,
              "#fb9f3a"
             ],
             [
              0.8888888888888888,
              "#fdca26"
             ],
             [
              1,
              "#f0f921"
             ]
            ],
            "type": "histogram2d"
           }
          ],
          "histogram2dcontour": [
           {
            "colorbar": {
             "outlinewidth": 0,
             "ticks": ""
            },
            "colorscale": [
             [
              0,
              "#0d0887"
             ],
             [
              0.1111111111111111,
              "#46039f"
             ],
             [
              0.2222222222222222,
              "#7201a8"
             ],
             [
              0.3333333333333333,
              "#9c179e"
             ],
             [
              0.4444444444444444,
              "#bd3786"
             ],
             [
              0.5555555555555556,
              "#d8576b"
             ],
             [
              0.6666666666666666,
              "#ed7953"
             ],
             [
              0.7777777777777778,
              "#fb9f3a"
             ],
             [
              0.8888888888888888,
              "#fdca26"
             ],
             [
              1,
              "#f0f921"
             ]
            ],
            "type": "histogram2dcontour"
           }
          ],
          "mesh3d": [
           {
            "colorbar": {
             "outlinewidth": 0,
             "ticks": ""
            },
            "type": "mesh3d"
           }
          ],
          "parcoords": [
           {
            "line": {
             "colorbar": {
              "outlinewidth": 0,
              "ticks": ""
             }
            },
            "type": "parcoords"
           }
          ],
          "pie": [
           {
            "automargin": true,
            "type": "pie"
           }
          ],
          "scatter": [
           {
            "marker": {
             "colorbar": {
              "outlinewidth": 0,
              "ticks": ""
             }
            },
            "type": "scatter"
           }
          ],
          "scatter3d": [
           {
            "line": {
             "colorbar": {
              "outlinewidth": 0,
              "ticks": ""
             }
            },
            "marker": {
             "colorbar": {
              "outlinewidth": 0,
              "ticks": ""
             }
            },
            "type": "scatter3d"
           }
          ],
          "scattercarpet": [
           {
            "marker": {
             "colorbar": {
              "outlinewidth": 0,
              "ticks": ""
             }
            },
            "type": "scattercarpet"
           }
          ],
          "scattergeo": [
           {
            "marker": {
             "colorbar": {
              "outlinewidth": 0,
              "ticks": ""
             }
            },
            "type": "scattergeo"
           }
          ],
          "scattergl": [
           {
            "marker": {
             "colorbar": {
              "outlinewidth": 0,
              "ticks": ""
             }
            },
            "type": "scattergl"
           }
          ],
          "scattermapbox": [
           {
            "marker": {
             "colorbar": {
              "outlinewidth": 0,
              "ticks": ""
             }
            },
            "type": "scattermapbox"
           }
          ],
          "scatterpolar": [
           {
            "marker": {
             "colorbar": {
              "outlinewidth": 0,
              "ticks": ""
             }
            },
            "type": "scatterpolar"
           }
          ],
          "scatterpolargl": [
           {
            "marker": {
             "colorbar": {
              "outlinewidth": 0,
              "ticks": ""
             }
            },
            "type": "scatterpolargl"
           }
          ],
          "scatterternary": [
           {
            "marker": {
             "colorbar": {
              "outlinewidth": 0,
              "ticks": ""
             }
            },
            "type": "scatterternary"
           }
          ],
          "surface": [
           {
            "colorbar": {
             "outlinewidth": 0,
             "ticks": ""
            },
            "colorscale": [
             [
              0,
              "#0d0887"
             ],
             [
              0.1111111111111111,
              "#46039f"
             ],
             [
              0.2222222222222222,
              "#7201a8"
             ],
             [
              0.3333333333333333,
              "#9c179e"
             ],
             [
              0.4444444444444444,
              "#bd3786"
             ],
             [
              0.5555555555555556,
              "#d8576b"
             ],
             [
              0.6666666666666666,
              "#ed7953"
             ],
             [
              0.7777777777777778,
              "#fb9f3a"
             ],
             [
              0.8888888888888888,
              "#fdca26"
             ],
             [
              1,
              "#f0f921"
             ]
            ],
            "type": "surface"
           }
          ],
          "table": [
           {
            "cells": {
             "fill": {
              "color": "#EBF0F8"
             },
             "line": {
              "color": "white"
             }
            },
            "header": {
             "fill": {
              "color": "#C8D4E3"
             },
             "line": {
              "color": "white"
             }
            },
            "type": "table"
           }
          ]
         },
         "layout": {
          "annotationdefaults": {
           "arrowcolor": "#2a3f5f",
           "arrowhead": 0,
           "arrowwidth": 1
          },
          "autotypenumbers": "strict",
          "coloraxis": {
           "colorbar": {
            "outlinewidth": 0,
            "ticks": ""
           }
          },
          "colorscale": {
           "diverging": [
            [
             0,
             "#8e0152"
            ],
            [
             0.1,
             "#c51b7d"
            ],
            [
             0.2,
             "#de77ae"
            ],
            [
             0.3,
             "#f1b6da"
            ],
            [
             0.4,
             "#fde0ef"
            ],
            [
             0.5,
             "#f7f7f7"
            ],
            [
             0.6,
             "#e6f5d0"
            ],
            [
             0.7,
             "#b8e186"
            ],
            [
             0.8,
             "#7fbc41"
            ],
            [
             0.9,
             "#4d9221"
            ],
            [
             1,
             "#276419"
            ]
           ],
           "sequential": [
            [
             0,
             "#0d0887"
            ],
            [
             0.1111111111111111,
             "#46039f"
            ],
            [
             0.2222222222222222,
             "#7201a8"
            ],
            [
             0.3333333333333333,
             "#9c179e"
            ],
            [
             0.4444444444444444,
             "#bd3786"
            ],
            [
             0.5555555555555556,
             "#d8576b"
            ],
            [
             0.6666666666666666,
             "#ed7953"
            ],
            [
             0.7777777777777778,
             "#fb9f3a"
            ],
            [
             0.8888888888888888,
             "#fdca26"
            ],
            [
             1,
             "#f0f921"
            ]
           ],
           "sequentialminus": [
            [
             0,
             "#0d0887"
            ],
            [
             0.1111111111111111,
             "#46039f"
            ],
            [
             0.2222222222222222,
             "#7201a8"
            ],
            [
             0.3333333333333333,
             "#9c179e"
            ],
            [
             0.4444444444444444,
             "#bd3786"
            ],
            [
             0.5555555555555556,
             "#d8576b"
            ],
            [
             0.6666666666666666,
             "#ed7953"
            ],
            [
             0.7777777777777778,
             "#fb9f3a"
            ],
            [
             0.8888888888888888,
             "#fdca26"
            ],
            [
             1,
             "#f0f921"
            ]
           ]
          },
          "colorway": [
           "#636efa",
           "#EF553B",
           "#00cc96",
           "#ab63fa",
           "#FFA15A",
           "#19d3f3",
           "#FF6692",
           "#B6E880",
           "#FF97FF",
           "#FECB52"
          ],
          "font": {
           "color": "#2a3f5f"
          },
          "geo": {
           "bgcolor": "white",
           "lakecolor": "white",
           "landcolor": "#E5ECF6",
           "showlakes": true,
           "showland": true,
           "subunitcolor": "white"
          },
          "hoverlabel": {
           "align": "left"
          },
          "hovermode": "closest",
          "mapbox": {
           "style": "light"
          },
          "paper_bgcolor": "white",
          "plot_bgcolor": "#E5ECF6",
          "polar": {
           "angularaxis": {
            "gridcolor": "white",
            "linecolor": "white",
            "ticks": ""
           },
           "bgcolor": "#E5ECF6",
           "radialaxis": {
            "gridcolor": "white",
            "linecolor": "white",
            "ticks": ""
           }
          },
          "scene": {
           "xaxis": {
            "backgroundcolor": "#E5ECF6",
            "gridcolor": "white",
            "gridwidth": 2,
            "linecolor": "white",
            "showbackground": true,
            "ticks": "",
            "zerolinecolor": "white"
           },
           "yaxis": {
            "backgroundcolor": "#E5ECF6",
            "gridcolor": "white",
            "gridwidth": 2,
            "linecolor": "white",
            "showbackground": true,
            "ticks": "",
            "zerolinecolor": "white"
           },
           "zaxis": {
            "backgroundcolor": "#E5ECF6",
            "gridcolor": "white",
            "gridwidth": 2,
            "linecolor": "white",
            "showbackground": true,
            "ticks": "",
            "zerolinecolor": "white"
           }
          },
          "shapedefaults": {
           "line": {
            "color": "#2a3f5f"
           }
          },
          "ternary": {
           "aaxis": {
            "gridcolor": "white",
            "linecolor": "white",
            "ticks": ""
           },
           "baxis": {
            "gridcolor": "white",
            "linecolor": "white",
            "ticks": ""
           },
           "bgcolor": "#E5ECF6",
           "caxis": {
            "gridcolor": "white",
            "linecolor": "white",
            "ticks": ""
           }
          },
          "title": {
           "x": 0.05
          },
          "xaxis": {
           "automargin": true,
           "gridcolor": "white",
           "linecolor": "white",
           "ticks": "",
           "title": {
            "standoff": 15
           },
           "zerolinecolor": "white",
           "zerolinewidth": 2
          },
          "yaxis": {
           "automargin": true,
           "gridcolor": "white",
           "linecolor": "white",
           "ticks": "",
           "title": {
            "standoff": 15
           },
           "zerolinecolor": "white",
           "zerolinewidth": 2
          }
         }
        },
        "title": {
         "text": "Different Genre popularity"
        }
       }
      },
      "text/html": [
       "<div>                            <div id=\"2c7dd129-fdf5-408d-8775-5f2b2757ce65\" class=\"plotly-graph-div\" style=\"height:525px; width:100%;\"></div>            <script type=\"text/javascript\">                require([\"plotly\"], function(Plotly) {                    window.PLOTLYENV=window.PLOTLYENV || {};                                    if (document.getElementById(\"2c7dd129-fdf5-408d-8775-5f2b2757ce65\")) {                    Plotly.newPlot(                        \"2c7dd129-fdf5-408d-8775-5f2b2757ce65\",                        [{\"domain\":{\"x\":[0.0,1.0],\"y\":[0.0,1.0]},\"hovertemplate\":\"Genre=%{label}<br>Sum_Genre=%{value}<extra></extra>\",\"labels\":[\"Genres_Action\",\"Genres_Adventure\",\"Genres_Cars\",\"Genres_Comedy\",\"Genres_Dementia\",\"Genres_Demons\",\"Genres_Drama\",\"Genres_Ecchi\",\"Genres_Fantasy\",\"Genres_Game\",\"Genres_Harem\",\"Genres_Hentai\",\"Genres_Historical\",\"Genres_Horror\",\"Genres_Josei\",\"Genres_Kids\",\"Genres_Magic\",\"Genres_Martial Arts\",\"Genres_Mecha\",\"Genres_Military\",\"Genres_Music\",\"Genres_Mystery\",\"Genres_Parody\",\"Genres_Police\",\"Genres_Psychological\",\"Genres_Romance\",\"Genres_Samurai\",\"Genres_School\",\"Genres_Sci-Fi\",\"Genres_Seinen\",\"Genres_Shoujo\",\"Genres_Shoujo Ai\",\"Genres_Shounen\",\"Genres_Shounen Ai\",\"Genres_Slice of Life\",\"Genres_Space\",\"Genres_Sports\",\"Genres_Super Power\",\"Genres_Supernatural\",\"Genres_Thriller\",\"Genres_Vampire\",\"Genres_Yaoi\",\"Genres_Yuri\"],\"legendgroup\":\"\",\"name\":\"\",\"showlegend\":true,\"type\":\"pie\",\"values\":[47441235,22741572,173483,49470549,2040856,7759396,35136777,10800346,30043771,7164129,9418030,1442891,5886685,6068606,811654,1376788,11963869,3431065,5886747,6181903,3733667,17894914,5478475,905849,10315304,35561037,704582,33691681,21994058,12202076,6245298,1175082,32494913,647116,20236388,2026708,5154844,14762995,29543647,3775652,2011630,110123,54157]}],                        {\"legend\":{\"tracegroupgap\":0},\"template\":{\"data\":{\"bar\":[{\"error_x\":{\"color\":\"#2a3f5f\"},\"error_y\":{\"color\":\"#2a3f5f\"},\"marker\":{\"line\":{\"color\":\"#E5ECF6\",\"width\":0.5},\"pattern\":{\"fillmode\":\"overlay\",\"size\":10,\"solidity\":0.2}},\"type\":\"bar\"}],\"barpolar\":[{\"marker\":{\"line\":{\"color\":\"#E5ECF6\",\"width\":0.5},\"pattern\":{\"fillmode\":\"overlay\",\"size\":10,\"solidity\":0.2}},\"type\":\"barpolar\"}],\"carpet\":[{\"aaxis\":{\"endlinecolor\":\"#2a3f5f\",\"gridcolor\":\"white\",\"linecolor\":\"white\",\"minorgridcolor\":\"white\",\"startlinecolor\":\"#2a3f5f\"},\"baxis\":{\"endlinecolor\":\"#2a3f5f\",\"gridcolor\":\"white\",\"linecolor\":\"white\",\"minorgridcolor\":\"white\",\"startlinecolor\":\"#2a3f5f\"},\"type\":\"carpet\"}],\"choropleth\":[{\"colorbar\":{\"outlinewidth\":0,\"ticks\":\"\"},\"type\":\"choropleth\"}],\"contour\":[{\"colorbar\":{\"outlinewidth\":0,\"ticks\":\"\"},\"colorscale\":[[0.0,\"#0d0887\"],[0.1111111111111111,\"#46039f\"],[0.2222222222222222,\"#7201a8\"],[0.3333333333333333,\"#9c179e\"],[0.4444444444444444,\"#bd3786\"],[0.5555555555555556,\"#d8576b\"],[0.6666666666666666,\"#ed7953\"],[0.7777777777777778,\"#fb9f3a\"],[0.8888888888888888,\"#fdca26\"],[1.0,\"#f0f921\"]],\"type\":\"contour\"}],\"contourcarpet\":[{\"colorbar\":{\"outlinewidth\":0,\"ticks\":\"\"},\"type\":\"contourcarpet\"}],\"heatmap\":[{\"colorbar\":{\"outlinewidth\":0,\"ticks\":\"\"},\"colorscale\":[[0.0,\"#0d0887\"],[0.1111111111111111,\"#46039f\"],[0.2222222222222222,\"#7201a8\"],[0.3333333333333333,\"#9c179e\"],[0.4444444444444444,\"#bd3786\"],[0.5555555555555556,\"#d8576b\"],[0.6666666666666666,\"#ed7953\"],[0.7777777777777778,\"#fb9f3a\"],[0.8888888888888888,\"#fdca26\"],[1.0,\"#f0f921\"]],\"type\":\"heatmap\"}],\"heatmapgl\":[{\"colorbar\":{\"outlinewidth\":0,\"ticks\":\"\"},\"colorscale\":[[0.0,\"#0d0887\"],[0.1111111111111111,\"#46039f\"],[0.2222222222222222,\"#7201a8\"],[0.3333333333333333,\"#9c179e\"],[0.4444444444444444,\"#bd3786\"],[0.5555555555555556,\"#d8576b\"],[0.6666666666666666,\"#ed7953\"],[0.7777777777777778,\"#fb9f3a\"],[0.8888888888888888,\"#fdca26\"],[1.0,\"#f0f921\"]],\"type\":\"heatmapgl\"}],\"histogram\":[{\"marker\":{\"pattern\":{\"fillmode\":\"overlay\",\"size\":10,\"solidity\":0.2}},\"type\":\"histogram\"}],\"histogram2d\":[{\"colorbar\":{\"outlinewidth\":0,\"ticks\":\"\"},\"colorscale\":[[0.0,\"#0d0887\"],[0.1111111111111111,\"#46039f\"],[0.2222222222222222,\"#7201a8\"],[0.3333333333333333,\"#9c179e\"],[0.4444444444444444,\"#bd3786\"],[0.5555555555555556,\"#d8576b\"],[0.6666666666666666,\"#ed7953\"],[0.7777777777777778,\"#fb9f3a\"],[0.8888888888888888,\"#fdca26\"],[1.0,\"#f0f921\"]],\"type\":\"histogram2d\"}],\"histogram2dcontour\":[{\"colorbar\":{\"outlinewidth\":0,\"ticks\":\"\"},\"colorscale\":[[0.0,\"#0d0887\"],[0.1111111111111111,\"#46039f\"],[0.2222222222222222,\"#7201a8\"],[0.3333333333333333,\"#9c179e\"],[0.4444444444444444,\"#bd3786\"],[0.5555555555555556,\"#d8576b\"],[0.6666666666666666,\"#ed7953\"],[0.7777777777777778,\"#fb9f3a\"],[0.8888888888888888,\"#fdca26\"],[1.0,\"#f0f921\"]],\"type\":\"histogram2dcontour\"}],\"mesh3d\":[{\"colorbar\":{\"outlinewidth\":0,\"ticks\":\"\"},\"type\":\"mesh3d\"}],\"parcoords\":[{\"line\":{\"colorbar\":{\"outlinewidth\":0,\"ticks\":\"\"}},\"type\":\"parcoords\"}],\"pie\":[{\"automargin\":true,\"type\":\"pie\"}],\"scatter\":[{\"marker\":{\"colorbar\":{\"outlinewidth\":0,\"ticks\":\"\"}},\"type\":\"scatter\"}],\"scatter3d\":[{\"line\":{\"colorbar\":{\"outlinewidth\":0,\"ticks\":\"\"}},\"marker\":{\"colorbar\":{\"outlinewidth\":0,\"ticks\":\"\"}},\"type\":\"scatter3d\"}],\"scattercarpet\":[{\"marker\":{\"colorbar\":{\"outlinewidth\":0,\"ticks\":\"\"}},\"type\":\"scattercarpet\"}],\"scattergeo\":[{\"marker\":{\"colorbar\":{\"outlinewidth\":0,\"ticks\":\"\"}},\"type\":\"scattergeo\"}],\"scattergl\":[{\"marker\":{\"colorbar\":{\"outlinewidth\":0,\"ticks\":\"\"}},\"type\":\"scattergl\"}],\"scattermapbox\":[{\"marker\":{\"colorbar\":{\"outlinewidth\":0,\"ticks\":\"\"}},\"type\":\"scattermapbox\"}],\"scatterpolar\":[{\"marker\":{\"colorbar\":{\"outlinewidth\":0,\"ticks\":\"\"}},\"type\":\"scatterpolar\"}],\"scatterpolargl\":[{\"marker\":{\"colorbar\":{\"outlinewidth\":0,\"ticks\":\"\"}},\"type\":\"scatterpolargl\"}],\"scatterternary\":[{\"marker\":{\"colorbar\":{\"outlinewidth\":0,\"ticks\":\"\"}},\"type\":\"scatterternary\"}],\"surface\":[{\"colorbar\":{\"outlinewidth\":0,\"ticks\":\"\"},\"colorscale\":[[0.0,\"#0d0887\"],[0.1111111111111111,\"#46039f\"],[0.2222222222222222,\"#7201a8\"],[0.3333333333333333,\"#9c179e\"],[0.4444444444444444,\"#bd3786\"],[0.5555555555555556,\"#d8576b\"],[0.6666666666666666,\"#ed7953\"],[0.7777777777777778,\"#fb9f3a\"],[0.8888888888888888,\"#fdca26\"],[1.0,\"#f0f921\"]],\"type\":\"surface\"}],\"table\":[{\"cells\":{\"fill\":{\"color\":\"#EBF0F8\"},\"line\":{\"color\":\"white\"}},\"header\":{\"fill\":{\"color\":\"#C8D4E3\"},\"line\":{\"color\":\"white\"}},\"type\":\"table\"}]},\"layout\":{\"annotationdefaults\":{\"arrowcolor\":\"#2a3f5f\",\"arrowhead\":0,\"arrowwidth\":1},\"autotypenumbers\":\"strict\",\"coloraxis\":{\"colorbar\":{\"outlinewidth\":0,\"ticks\":\"\"}},\"colorscale\":{\"diverging\":[[0,\"#8e0152\"],[0.1,\"#c51b7d\"],[0.2,\"#de77ae\"],[0.3,\"#f1b6da\"],[0.4,\"#fde0ef\"],[0.5,\"#f7f7f7\"],[0.6,\"#e6f5d0\"],[0.7,\"#b8e186\"],[0.8,\"#7fbc41\"],[0.9,\"#4d9221\"],[1,\"#276419\"]],\"sequential\":[[0.0,\"#0d0887\"],[0.1111111111111111,\"#46039f\"],[0.2222222222222222,\"#7201a8\"],[0.3333333333333333,\"#9c179e\"],[0.4444444444444444,\"#bd3786\"],[0.5555555555555556,\"#d8576b\"],[0.6666666666666666,\"#ed7953\"],[0.7777777777777778,\"#fb9f3a\"],[0.8888888888888888,\"#fdca26\"],[1.0,\"#f0f921\"]],\"sequentialminus\":[[0.0,\"#0d0887\"],[0.1111111111111111,\"#46039f\"],[0.2222222222222222,\"#7201a8\"],[0.3333333333333333,\"#9c179e\"],[0.4444444444444444,\"#bd3786\"],[0.5555555555555556,\"#d8576b\"],[0.6666666666666666,\"#ed7953\"],[0.7777777777777778,\"#fb9f3a\"],[0.8888888888888888,\"#fdca26\"],[1.0,\"#f0f921\"]]},\"colorway\":[\"#636efa\",\"#EF553B\",\"#00cc96\",\"#ab63fa\",\"#FFA15A\",\"#19d3f3\",\"#FF6692\",\"#B6E880\",\"#FF97FF\",\"#FECB52\"],\"font\":{\"color\":\"#2a3f5f\"},\"geo\":{\"bgcolor\":\"white\",\"lakecolor\":\"white\",\"landcolor\":\"#E5ECF6\",\"showlakes\":true,\"showland\":true,\"subunitcolor\":\"white\"},\"hoverlabel\":{\"align\":\"left\"},\"hovermode\":\"closest\",\"mapbox\":{\"style\":\"light\"},\"paper_bgcolor\":\"white\",\"plot_bgcolor\":\"#E5ECF6\",\"polar\":{\"angularaxis\":{\"gridcolor\":\"white\",\"linecolor\":\"white\",\"ticks\":\"\"},\"bgcolor\":\"#E5ECF6\",\"radialaxis\":{\"gridcolor\":\"white\",\"linecolor\":\"white\",\"ticks\":\"\"}},\"scene\":{\"xaxis\":{\"backgroundcolor\":\"#E5ECF6\",\"gridcolor\":\"white\",\"gridwidth\":2,\"linecolor\":\"white\",\"showbackground\":true,\"ticks\":\"\",\"zerolinecolor\":\"white\"},\"yaxis\":{\"backgroundcolor\":\"#E5ECF6\",\"gridcolor\":\"white\",\"gridwidth\":2,\"linecolor\":\"white\",\"showbackground\":true,\"ticks\":\"\",\"zerolinecolor\":\"white\"},\"zaxis\":{\"backgroundcolor\":\"#E5ECF6\",\"gridcolor\":\"white\",\"gridwidth\":2,\"linecolor\":\"white\",\"showbackground\":true,\"ticks\":\"\",\"zerolinecolor\":\"white\"}},\"shapedefaults\":{\"line\":{\"color\":\"#2a3f5f\"}},\"ternary\":{\"aaxis\":{\"gridcolor\":\"white\",\"linecolor\":\"white\",\"ticks\":\"\"},\"baxis\":{\"gridcolor\":\"white\",\"linecolor\":\"white\",\"ticks\":\"\"},\"bgcolor\":\"#E5ECF6\",\"caxis\":{\"gridcolor\":\"white\",\"linecolor\":\"white\",\"ticks\":\"\"}},\"title\":{\"x\":0.05},\"xaxis\":{\"automargin\":true,\"gridcolor\":\"white\",\"linecolor\":\"white\",\"ticks\":\"\",\"title\":{\"standoff\":15},\"zerolinecolor\":\"white\",\"zerolinewidth\":2},\"yaxis\":{\"automargin\":true,\"gridcolor\":\"white\",\"linecolor\":\"white\",\"ticks\":\"\",\"title\":{\"standoff\":15},\"zerolinecolor\":\"white\",\"zerolinewidth\":2}}},\"title\":{\"text\":\"Different Genre popularity\"}},                        {\"responsive\": true}                    ).then(function(){\n",
       "                            \n",
       "var gd = document.getElementById('2c7dd129-fdf5-408d-8775-5f2b2757ce65');\n",
       "var x = new MutationObserver(function (mutations, observer) {{\n",
       "        var display = window.getComputedStyle(gd).display;\n",
       "        if (!display || display === 'none') {{\n",
       "            console.log([gd, 'removed!']);\n",
       "            Plotly.purge(gd);\n",
       "            observer.disconnect();\n",
       "        }}\n",
       "}});\n",
       "\n",
       "// Listen for the removal of the full notebook cells\n",
       "var notebookContainer = gd.closest('#notebook-container');\n",
       "if (notebookContainer) {{\n",
       "    x.observe(notebookContainer, {childList: true});\n",
       "}}\n",
       "\n",
       "// Listen for the clearing of the current output cell\n",
       "var outputEl = gd.closest('.output');\n",
       "if (outputEl) {{\n",
       "    x.observe(outputEl, {childList: true});\n",
       "}}\n",
       "\n",
       "                        })                };                });            </script>        </div>"
      ]
     },
     "metadata": {},
     "output_type": "display_data"
    }
   ],
   "source": [
    "import plotly.express as px\n",
    "\n",
    "fig = px.pie(df_genres_sum, values='Sum_Genre', names='Genre', title='Different Genre popularity')\n",
    "fig.show()"
   ]
  },
  {
   "cell_type": "markdown",
   "metadata": {},
   "source": [
    "## Data Wrangling"
   ]
  },
  {
   "cell_type": "code",
   "execution_count": 19,
   "metadata": {},
   "outputs": [],
   "source": [
    "pd.set_option('display.max_columns', None)\n",
    "features = df"
   ]
  },
  {
   "cell_type": "code",
   "execution_count": 20,
   "metadata": {},
   "outputs": [],
   "source": [
    "#convert list columns into individual sections\n",
    "def split_list(column):\n",
    "    global features\n",
    "    features[column] = features[column].apply(lambda x: [_.strip() for _ in x.split(\",\")])\n",
    "\n",
    "\n",
    "split_list(\"Genres\")\n",
    "split_list(\"Producers\")\n",
    "split_list(\"Licensors\")\n",
    "split_list(\"Studios\")"
   ]
  },
  {
   "cell_type": "code",
   "execution_count": 21,
   "metadata": {},
   "outputs": [],
   "source": [
    "#replace unknowns with np.nan\n",
    "features.replace([\"Unknown\", None], np.nan, inplace=True)"
   ]
  },
  {
   "cell_type": "code",
   "execution_count": 22,
   "metadata": {},
   "outputs": [],
   "source": [
    "#convert strings to datetime objects\n",
    "def str_to_dt(string):\n",
    "    string = str(string)\n",
    "    string_list = [string]\n",
    "    if \"to\" in string:\n",
    "        string_list = string.split(\"to\")\n",
    "        \n",
    "    dts = []\n",
    "    for i in string_list:\n",
    "        i = i.strip()\n",
    "        if i==\"?\" or i==\"nan\":\n",
    "            string_dt = np.nan \n",
    "        else:\n",
    "            try:\n",
    "                string_dt = dt.strptime(i, \"%b %d, %Y\")\n",
    "            except:\n",
    "                try:\n",
    "                    string_dt = dt.strptime(i, \"%b, %Y\")\n",
    "                except:\n",
    "                    string_dt = dt.strptime(i, \"%Y\")\n",
    "        dts.append(string_dt)\n",
    "    return dts\n",
    "\n",
    "features[\"Aired\"] = features[\"Aired\"].apply(str_to_dt)"
   ]
  },
  {
   "cell_type": "code",
   "execution_count": 23,
   "metadata": {},
   "outputs": [],
   "source": [
    "#convert duration into int\n",
    "def str_to_num(string):\n",
    "    \n",
    "    string = str(string)\n",
    "    if \"nan\" in string:\n",
    "        return np.nan\n",
    "    \n",
    "    string_lst = string.split(\".\")\n",
    "    minute = 0\n",
    "    hour = 0\n",
    "    \n",
    "    for i in string_lst:\n",
    "        if \"min\" in i:\n",
    "            minute += int(i.strip(\"min \"))\n",
    "        if \"hr\" in i:\n",
    "            hour += int(i.strip(\"hr \"))\n",
    "    \n",
    "    return minute+(60*hour)\n",
    "\n",
    "features[\"Duration\"] = features[\"Duration\"].apply(str_to_num)"
   ]
  },
  {
   "cell_type": "code",
   "execution_count": 24,
   "metadata": {},
   "outputs": [],
   "source": [
    "#simplify Rating\n",
    "def simplify_rating(rating):\n",
    "    \n",
    "    rating = str(rating)\n",
    "    if \"nan\" in rating:\n",
    "        return np.nan\n",
    "    \n",
    "    if rating.startswith(\"R\"):\n",
    "        if rating.startswith(\"Rx\"):\n",
    "            return \"Rx\"\n",
    "        if rating.startswith(\"R+\"):\n",
    "            return \"R+\"\n",
    "        return \"R\"\n",
    "    \n",
    "    if rating.startswith(\"PG\"):\n",
    "        if \"13\" in rating:\n",
    "            return\"PG13\"\n",
    "        return \"PG\"\n",
    "    \n",
    "    if rating.startswith(\"G\"):\n",
    "        return \"G\"\n",
    "\n",
    "features[\"Rating\"] = features[\"Rating\"].apply(simplify_rating)"
   ]
  },
  {
   "cell_type": "code",
   "execution_count": 25,
   "metadata": {},
   "outputs": [
    {
     "data": {
      "text/html": [
       "<div>\n",
       "<style scoped>\n",
       "    .dataframe tbody tr th:only-of-type {\n",
       "        vertical-align: middle;\n",
       "    }\n",
       "\n",
       "    .dataframe tbody tr th {\n",
       "        vertical-align: top;\n",
       "    }\n",
       "\n",
       "    .dataframe thead th {\n",
       "        text-align: right;\n",
       "    }\n",
       "</style>\n",
       "<table border=\"1\" class=\"dataframe\">\n",
       "  <thead>\n",
       "    <tr style=\"text-align: right;\">\n",
       "      <th></th>\n",
       "      <th>MAL_ID</th>\n",
       "      <th>Name</th>\n",
       "      <th>Score</th>\n",
       "      <th>Genres</th>\n",
       "      <th>English name</th>\n",
       "      <th>Japanese name</th>\n",
       "      <th>Type</th>\n",
       "      <th>Episodes</th>\n",
       "      <th>Aired</th>\n",
       "      <th>Premiered</th>\n",
       "      <th>Producers</th>\n",
       "      <th>Licensors</th>\n",
       "      <th>Studios</th>\n",
       "      <th>Source</th>\n",
       "      <th>Duration</th>\n",
       "      <th>Rating</th>\n",
       "      <th>Ranked</th>\n",
       "      <th>Popularity</th>\n",
       "      <th>Members</th>\n",
       "      <th>Favorites</th>\n",
       "      <th>Watching</th>\n",
       "      <th>Completed</th>\n",
       "      <th>On-Hold</th>\n",
       "      <th>Dropped</th>\n",
       "      <th>Plan to Watch</th>\n",
       "      <th>Score-10</th>\n",
       "      <th>Score-9</th>\n",
       "      <th>Score-8</th>\n",
       "      <th>Score-7</th>\n",
       "      <th>Score-6</th>\n",
       "      <th>Score-5</th>\n",
       "      <th>Score-4</th>\n",
       "      <th>Score-3</th>\n",
       "      <th>Score-2</th>\n",
       "      <th>Score-1</th>\n",
       "    </tr>\n",
       "  </thead>\n",
       "  <tbody>\n",
       "    <tr>\n",
       "      <th>0</th>\n",
       "      <td>1</td>\n",
       "      <td>Cowboy Bebop</td>\n",
       "      <td>8.78</td>\n",
       "      <td>[Action, Adventure, Comedy, Drama, Sci-Fi, Space]</td>\n",
       "      <td>Cowboy Bebop</td>\n",
       "      <td>カウボーイビバップ</td>\n",
       "      <td>TV</td>\n",
       "      <td>26</td>\n",
       "      <td>[1998-04-03 00:00:00, 1999-04-24 00:00:00]</td>\n",
       "      <td>Spring 1998</td>\n",
       "      <td>[Bandai Visual]</td>\n",
       "      <td>[Funimation, Bandai Entertainment]</td>\n",
       "      <td>[Sunrise]</td>\n",
       "      <td>Original</td>\n",
       "      <td>24.0</td>\n",
       "      <td>R</td>\n",
       "      <td>28.0</td>\n",
       "      <td>39</td>\n",
       "      <td>1251960</td>\n",
       "      <td>61971</td>\n",
       "      <td>105808</td>\n",
       "      <td>718161</td>\n",
       "      <td>71513</td>\n",
       "      <td>26678</td>\n",
       "      <td>329800</td>\n",
       "      <td>229170.0</td>\n",
       "      <td>182126.0</td>\n",
       "      <td>131625.0</td>\n",
       "      <td>62330.0</td>\n",
       "      <td>20688.0</td>\n",
       "      <td>8904.0</td>\n",
       "      <td>3184.0</td>\n",
       "      <td>1357.0</td>\n",
       "      <td>741.0</td>\n",
       "      <td>1580.0</td>\n",
       "    </tr>\n",
       "    <tr>\n",
       "      <th>1</th>\n",
       "      <td>5</td>\n",
       "      <td>Cowboy Bebop: Tengoku no Tobira</td>\n",
       "      <td>8.39</td>\n",
       "      <td>[Action, Drama, Mystery, Sci-Fi, Space]</td>\n",
       "      <td>Cowboy Bebop:The Movie</td>\n",
       "      <td>カウボーイビバップ 天国の扉</td>\n",
       "      <td>Movie</td>\n",
       "      <td>1</td>\n",
       "      <td>[2001-09-01 00:00:00]</td>\n",
       "      <td>NaN</td>\n",
       "      <td>[Sunrise, Bandai Visual]</td>\n",
       "      <td>[Sony Pictures Entertainment]</td>\n",
       "      <td>[Bones]</td>\n",
       "      <td>Original</td>\n",
       "      <td>115.0</td>\n",
       "      <td>R</td>\n",
       "      <td>159.0</td>\n",
       "      <td>518</td>\n",
       "      <td>273145</td>\n",
       "      <td>1174</td>\n",
       "      <td>4143</td>\n",
       "      <td>208333</td>\n",
       "      <td>1935</td>\n",
       "      <td>770</td>\n",
       "      <td>57964</td>\n",
       "      <td>30043.0</td>\n",
       "      <td>49201.0</td>\n",
       "      <td>49505.0</td>\n",
       "      <td>22632.0</td>\n",
       "      <td>5805.0</td>\n",
       "      <td>1877.0</td>\n",
       "      <td>577.0</td>\n",
       "      <td>221.0</td>\n",
       "      <td>109.0</td>\n",
       "      <td>379.0</td>\n",
       "    </tr>\n",
       "    <tr>\n",
       "      <th>2</th>\n",
       "      <td>6</td>\n",
       "      <td>Trigun</td>\n",
       "      <td>8.24</td>\n",
       "      <td>[Action, Sci-Fi, Adventure, Comedy, Drama, Sho...</td>\n",
       "      <td>Trigun</td>\n",
       "      <td>トライガン</td>\n",
       "      <td>TV</td>\n",
       "      <td>26</td>\n",
       "      <td>[1998-04-01 00:00:00, 1998-09-30 00:00:00]</td>\n",
       "      <td>Spring 1998</td>\n",
       "      <td>[Victor Entertainment]</td>\n",
       "      <td>[Funimation, Geneon Entertainment USA]</td>\n",
       "      <td>[Madhouse]</td>\n",
       "      <td>Manga</td>\n",
       "      <td>24.0</td>\n",
       "      <td>PG13</td>\n",
       "      <td>266.0</td>\n",
       "      <td>201</td>\n",
       "      <td>558913</td>\n",
       "      <td>12944</td>\n",
       "      <td>29113</td>\n",
       "      <td>343492</td>\n",
       "      <td>25465</td>\n",
       "      <td>13925</td>\n",
       "      <td>146918</td>\n",
       "      <td>50229.0</td>\n",
       "      <td>75651.0</td>\n",
       "      <td>86142.0</td>\n",
       "      <td>49432.0</td>\n",
       "      <td>15376.0</td>\n",
       "      <td>5838.0</td>\n",
       "      <td>1965.0</td>\n",
       "      <td>664.0</td>\n",
       "      <td>316.0</td>\n",
       "      <td>533.0</td>\n",
       "    </tr>\n",
       "    <tr>\n",
       "      <th>3</th>\n",
       "      <td>7</td>\n",
       "      <td>Witch Hunter Robin</td>\n",
       "      <td>7.27</td>\n",
       "      <td>[Action, Mystery, Police, Supernatural, Drama,...</td>\n",
       "      <td>Witch Hunter Robin</td>\n",
       "      <td>Witch Hunter ROBIN (ウイッチハンターロビン)</td>\n",
       "      <td>TV</td>\n",
       "      <td>26</td>\n",
       "      <td>[2002-07-02 00:00:00, 2002-12-24 00:00:00]</td>\n",
       "      <td>Summer 2002</td>\n",
       "      <td>[TV Tokyo, Bandai Visual, Dentsu, Victor Enter...</td>\n",
       "      <td>[Funimation, Bandai Entertainment]</td>\n",
       "      <td>[Sunrise]</td>\n",
       "      <td>Original</td>\n",
       "      <td>25.0</td>\n",
       "      <td>PG13</td>\n",
       "      <td>2481.0</td>\n",
       "      <td>1467</td>\n",
       "      <td>94683</td>\n",
       "      <td>587</td>\n",
       "      <td>4300</td>\n",
       "      <td>46165</td>\n",
       "      <td>5121</td>\n",
       "      <td>5378</td>\n",
       "      <td>33719</td>\n",
       "      <td>2182.0</td>\n",
       "      <td>4806.0</td>\n",
       "      <td>10128.0</td>\n",
       "      <td>11618.0</td>\n",
       "      <td>5709.0</td>\n",
       "      <td>2920.0</td>\n",
       "      <td>1083.0</td>\n",
       "      <td>353.0</td>\n",
       "      <td>164.0</td>\n",
       "      <td>131.0</td>\n",
       "    </tr>\n",
       "    <tr>\n",
       "      <th>4</th>\n",
       "      <td>8</td>\n",
       "      <td>Bouken Ou Beet</td>\n",
       "      <td>6.98</td>\n",
       "      <td>[Adventure, Fantasy, Shounen, Supernatural]</td>\n",
       "      <td>Beet the Vandel Buster</td>\n",
       "      <td>冒険王ビィト</td>\n",
       "      <td>TV</td>\n",
       "      <td>52</td>\n",
       "      <td>[2004-09-30 00:00:00, 2005-09-29 00:00:00]</td>\n",
       "      <td>Fall 2004</td>\n",
       "      <td>[TV Tokyo, Dentsu]</td>\n",
       "      <td>[Unknown]</td>\n",
       "      <td>[Toei Animation]</td>\n",
       "      <td>Manga</td>\n",
       "      <td>23.0</td>\n",
       "      <td>PG</td>\n",
       "      <td>3710.0</td>\n",
       "      <td>4369</td>\n",
       "      <td>13224</td>\n",
       "      <td>18</td>\n",
       "      <td>642</td>\n",
       "      <td>7314</td>\n",
       "      <td>766</td>\n",
       "      <td>1108</td>\n",
       "      <td>3394</td>\n",
       "      <td>312.0</td>\n",
       "      <td>529.0</td>\n",
       "      <td>1242.0</td>\n",
       "      <td>1713.0</td>\n",
       "      <td>1068.0</td>\n",
       "      <td>634.0</td>\n",
       "      <td>265.0</td>\n",
       "      <td>83.0</td>\n",
       "      <td>50.0</td>\n",
       "      <td>27.0</td>\n",
       "    </tr>\n",
       "  </tbody>\n",
       "</table>\n",
       "</div>"
      ],
      "text/plain": [
       "   MAL_ID                             Name Score  \\\n",
       "0       1                     Cowboy Bebop  8.78   \n",
       "1       5  Cowboy Bebop: Tengoku no Tobira  8.39   \n",
       "2       6                           Trigun  8.24   \n",
       "3       7               Witch Hunter Robin  7.27   \n",
       "4       8                   Bouken Ou Beet  6.98   \n",
       "\n",
       "                                              Genres            English name  \\\n",
       "0  [Action, Adventure, Comedy, Drama, Sci-Fi, Space]            Cowboy Bebop   \n",
       "1            [Action, Drama, Mystery, Sci-Fi, Space]  Cowboy Bebop:The Movie   \n",
       "2  [Action, Sci-Fi, Adventure, Comedy, Drama, Sho...                  Trigun   \n",
       "3  [Action, Mystery, Police, Supernatural, Drama,...      Witch Hunter Robin   \n",
       "4        [Adventure, Fantasy, Shounen, Supernatural]  Beet the Vandel Buster   \n",
       "\n",
       "                      Japanese name   Type Episodes  \\\n",
       "0                         カウボーイビバップ     TV       26   \n",
       "1                    カウボーイビバップ 天国の扉  Movie        1   \n",
       "2                             トライガン     TV       26   \n",
       "3  Witch Hunter ROBIN (ウイッチハンターロビン)     TV       26   \n",
       "4                            冒険王ビィト     TV       52   \n",
       "\n",
       "                                        Aired    Premiered  \\\n",
       "0  [1998-04-03 00:00:00, 1999-04-24 00:00:00]  Spring 1998   \n",
       "1                       [2001-09-01 00:00:00]          NaN   \n",
       "2  [1998-04-01 00:00:00, 1998-09-30 00:00:00]  Spring 1998   \n",
       "3  [2002-07-02 00:00:00, 2002-12-24 00:00:00]  Summer 2002   \n",
       "4  [2004-09-30 00:00:00, 2005-09-29 00:00:00]    Fall 2004   \n",
       "\n",
       "                                           Producers  \\\n",
       "0                                    [Bandai Visual]   \n",
       "1                           [Sunrise, Bandai Visual]   \n",
       "2                             [Victor Entertainment]   \n",
       "3  [TV Tokyo, Bandai Visual, Dentsu, Victor Enter...   \n",
       "4                                 [TV Tokyo, Dentsu]   \n",
       "\n",
       "                                Licensors           Studios    Source  \\\n",
       "0      [Funimation, Bandai Entertainment]         [Sunrise]  Original   \n",
       "1           [Sony Pictures Entertainment]           [Bones]  Original   \n",
       "2  [Funimation, Geneon Entertainment USA]        [Madhouse]     Manga   \n",
       "3      [Funimation, Bandai Entertainment]         [Sunrise]  Original   \n",
       "4                               [Unknown]  [Toei Animation]     Manga   \n",
       "\n",
       "   Duration Rating  Ranked  Popularity  Members  Favorites  Watching  \\\n",
       "0      24.0      R    28.0          39  1251960      61971    105808   \n",
       "1     115.0      R   159.0         518   273145       1174      4143   \n",
       "2      24.0   PG13   266.0         201   558913      12944     29113   \n",
       "3      25.0   PG13  2481.0        1467    94683        587      4300   \n",
       "4      23.0     PG  3710.0        4369    13224         18       642   \n",
       "\n",
       "   Completed  On-Hold  Dropped  Plan to Watch  Score-10   Score-9   Score-8  \\\n",
       "0     718161    71513    26678         329800  229170.0  182126.0  131625.0   \n",
       "1     208333     1935      770          57964   30043.0   49201.0   49505.0   \n",
       "2     343492    25465    13925         146918   50229.0   75651.0   86142.0   \n",
       "3      46165     5121     5378          33719    2182.0    4806.0   10128.0   \n",
       "4       7314      766     1108           3394     312.0     529.0    1242.0   \n",
       "\n",
       "   Score-7  Score-6 Score-5 Score-4 Score-3 Score-2 Score-1  \n",
       "0  62330.0  20688.0  8904.0  3184.0  1357.0   741.0  1580.0  \n",
       "1  22632.0   5805.0  1877.0   577.0   221.0   109.0   379.0  \n",
       "2  49432.0  15376.0  5838.0  1965.0   664.0   316.0   533.0  \n",
       "3  11618.0   5709.0  2920.0  1083.0   353.0   164.0   131.0  \n",
       "4   1713.0   1068.0   634.0   265.0    83.0    50.0    27.0  "
      ]
     },
     "execution_count": 25,
     "metadata": {},
     "output_type": "execute_result"
    }
   ],
   "source": [
    "features.head()"
   ]
  },
  {
   "cell_type": "code",
   "execution_count": null,
   "metadata": {},
   "outputs": [],
   "source": []
  },
  {
   "cell_type": "code",
   "execution_count": null,
   "metadata": {},
   "outputs": [],
   "source": []
  }
 ],
 "metadata": {
  "kernelspec": {
   "display_name": "Python 3",
   "language": "python",
   "name": "python3"
  },
  "language_info": {
   "codemirror_mode": {
    "name": "ipython",
    "version": 3
   },
   "file_extension": ".py",
   "mimetype": "text/x-python",
   "name": "python",
   "nbconvert_exporter": "python",
   "pygments_lexer": "ipython3",
   "version": "3.7.4"
  }
 },
 "nbformat": 4,
 "nbformat_minor": 4
}
